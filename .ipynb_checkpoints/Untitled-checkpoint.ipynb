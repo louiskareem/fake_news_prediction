{
 "cells": [
  {
   "cell_type": "code",
   "execution_count": null,
   "id": "tight-fossil",
   "metadata": {},
   "outputs": [],
   "source": [
    "import pandas as pd\n",
    "import numpy as np\n",
    "from sklearn.feature_extraction.text import CountVectorizer\n",
    "from sklearn.model_selection import train_test_split\n",
    "import nltk as nltk\n",
    "from sklearn.linear_model import LinearRegression\n",
    "# import Imputer as imp\n",
    "import matplotlib.pyplot as plt\n",
    "import seaborn as sns\n",
    "from datetime import datetime\n",
    "from nltk.corpus import stopwords\n",
    "from wordcloud import WordCloud\n",
    "from sklearn.feature_extraction.text import TfidfVectorizer\n",
    "from sklearn.feature_extraction.text import CountVectorizer\n",
    "from sklearn.naive_bayes import MultinomialNB\n",
    "from sklearn.pipeline import Pipeline\n",
    "sns.set(color_codes = True)\n",
    "%matplotlib inline"
   ]
  },
  {
   "cell_type": "code",
   "execution_count": null,
   "id": "exotic-engineer",
   "metadata": {},
   "outputs": [],
   "source": [
    "# t_label = newsData['title']\n",
    "# sns.set_style('whitegrid')\n",
    "# sns.countplot(t_label)\n",
    "\n"
   ]
  },
  {
   "cell_type": "code",
   "execution_count": null,
   "id": "eligible-capitol",
   "metadata": {},
   "outputs": [],
   "source": [
    "# TRAIN_SET,TEST_SET, TRAIN_label,TEST_label = train_test_split(newsData['text'], newsData['label'],random_state = 10,\n",
    "#                                                                test_size = 0.30)\n",
    "# print(f'TRAIN FEATURE SET: {TRAIN_SET.shape}')\n",
    "# print(f'TRAIN LABEL SET: {TRAIN_label.shape}')\n",
    "# print(f'TEST FEATURE SET: {TEST_SET.shape}')"
   ]
  },
  {
   "cell_type": "code",
   "execution_count": null,
   "id": "according-fancy",
   "metadata": {},
   "outputs": [],
   "source": [
    "# Building Pipeline for raw text transformation\n",
    "# clf = Pipeline([('vect', TfidfVectorizer(stop_words= \"english\")),('classifier', MultinomialNB()),])"
   ]
  },
  {
   "cell_type": "code",
   "execution_count": null,
   "id": "native-silver",
   "metadata": {},
   "outputs": [],
   "source": [
    "# model_NB = clf.fit(TRAIN_SET, TRAIN_label)"
   ]
  },
  {
   "cell_type": "code",
   "execution_count": null,
   "id": "looking-crown",
   "metadata": {},
   "outputs": [],
   "source": [
    "# score = model_NB.score(TEST_SET, TEST_label)\n",
    "# print(f'Accuracy of Model is: {score}')"
   ]
  },
  {
   "cell_type": "code",
   "execution_count": null,
   "id": "beautiful-liquid",
   "metadata": {},
   "outputs": [],
   "source": [
    "# fig, ax = plt.subplots()\n",
    "# ax = plt.plot()\n",
    "# plt.show()"
   ]
  },
  {
   "cell_type": "code",
   "execution_count": null,
   "id": "architectural-independence",
   "metadata": {},
   "outputs": [],
   "source": [
    "# check_nan_in_df = newsData.isnull()\n",
    "# print(check_nan_in_df)\n",
    "# newsData.shape"
   ]
  },
  {
   "cell_type": "code",
   "execution_count": null,
   "id": "manual-kruger",
   "metadata": {},
   "outputs": [],
   "source": [
    "# nltk.download(\"stopwords\")"
   ]
  },
  {
   "cell_type": "code",
   "execution_count": null,
   "id": "derived-valuation",
   "metadata": {},
   "outputs": [],
   "source": [
    "# count_vectorizer = CountVectorizer(stop_words='english')\n",
    "# count_train = count_vectorizer.fit_transform(X_train, y_train)\n",
    "# count_test = count_vectorizer.transform(X_test)\n",
    "# print('ff')"
   ]
  }
 ],
 "metadata": {
  "kernelspec": {
   "display_name": "Python 3",
   "language": "python",
   "name": "python3"
  },
  "language_info": {
   "codemirror_mode": {
    "name": "ipython",
    "version": 3
   },
   "file_extension": ".py",
   "mimetype": "text/x-python",
   "name": "python",
   "nbconvert_exporter": "python",
   "pygments_lexer": "ipython3",
   "version": "3.7.9"
  }
 },
 "nbformat": 4,
 "nbformat_minor": 5
}
